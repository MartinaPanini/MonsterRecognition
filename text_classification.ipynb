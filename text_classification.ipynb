{
 "cells": [
  {
   "cell_type": "code",
   "execution_count": 3,
   "metadata": {},
   "outputs": [],
   "source": [
    "import nbimporter\n",
    "from monster_dataset import CanDataset, transform\n",
    "from torch.utils.data import DataLoader, Dataset\n",
    "# Crea il dataset di train e test\n",
    "train_dataset = CanDataset(root_dir='/home/mozy/Desktop/MonsterNana/Monster_energy_drink/train', transform=transform)\n",
    "test_dataset = CanDataset(root_dir='/home/mozy/Desktop/MonsterNana/Monster_energy_drink/test', transform=transform)\n",
    "# Crea i dataloader per il dataset di train e test\n",
    "train_loader = DataLoader(train_dataset, batch_size=32, shuffle=True)\n",
    "test_loader = DataLoader(test_dataset, batch_size=32, shuffle=False)"
   ]
  }
 ],
 "metadata": {
  "kernelspec": {
   "display_name": "Python 3.12 (myenv)",
   "language": "python",
   "name": "myenv"
  },
  "language_info": {
   "codemirror_mode": {
    "name": "ipython",
    "version": 3
   },
   "file_extension": ".py",
   "mimetype": "text/x-python",
   "name": "python",
   "nbconvert_exporter": "python",
   "pygments_lexer": "ipython3",
   "version": "3.12.3"
  }
 },
 "nbformat": 4,
 "nbformat_minor": 2
}
