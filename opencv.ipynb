{
 "cells": [
  {
   "cell_type": "code",
   "execution_count": 1,
   "metadata": {},
   "outputs": [],
   "source": [
    "import cv2"
   ]
  },
  {
   "cell_type": "code",
   "execution_count": 2,
   "metadata": {},
   "outputs": [],
   "source": [
    "# Carica l'immagine\n",
    "image_path = \"/Users/martinapanini/Library/Mobile Documents/com~apple~CloudDocs/Università/I Semestre/Signal_Image_Video/MonsterProject/MonsterRecognition/images/monster_wall1.jpeg\"\n",
    "image = cv2.imread(image_path)"
   ]
  },
  {
   "cell_type": "code",
   "execution_count": 3,
   "metadata": {},
   "outputs": [],
   "source": [
    "# Passaggio 1: Converte l'immagine in scala di grigi\n",
    "gray = cv2.cvtColor(image, cv2.COLOR_BGR2GRAY)\n",
    "\n",
    "# Passaggio 2: Applica un filtro Gaussiano per ridurre il rumore (opzionale)\n",
    "blurred = cv2.GaussianBlur(gray, (5, 5), 0)\n",
    "\n",
    "# Passaggio 3: Applica un threshold per segmentare l'immagine\n",
    "_, thresh = cv2.threshold(blurred, 50, 255, cv2.THRESH_BINARY_INV + cv2.THRESH_OTSU)\n",
    "\n",
    "# Passaggio 4: Trova i contorni\n",
    "contours, _ = cv2.findContours(thresh, cv2.RETR_EXTERNAL, cv2.CHAIN_APPROX_SIMPLE)"
   ]
  },
  {
   "cell_type": "code",
   "execution_count": 4,
   "metadata": {},
   "outputs": [],
   "source": [
    "# Passaggio 5: Disegna un bounding box attorno a ogni contorno\n",
    "for contour in contours:\n",
    "    # Calcola il rettangolo del bounding box\n",
    "    x, y, w, h = cv2.boundingRect(contour)\n",
    "    \n",
    "    # Filtra i contorni troppo piccoli (per evitare falsi positivi)\n",
    "    if w > 10 and h > 10:  # Cambia le dimensioni minime a seconda del tuo caso\n",
    "        cv2.rectangle(image, (x, y), (x + w, y + h), (0, 255, 0), 2)  # Disegna il rettangolo"
   ]
  },
  {
   "cell_type": "code",
   "execution_count": null,
   "metadata": {},
   "outputs": [
    {
     "name": "stderr",
     "output_type": "stream",
     "text": [
      "2025-01-28 07:56:11.714 python[3549:85119] +[IMKClient subclass]: chose IMKClient_Modern\n",
      "2025-01-28 07:56:11.714 python[3549:85119] +[IMKInputSession subclass]: chose IMKInputSession_Modern\n"
     ]
    }
   ],
   "source": [
    "# Mostra l'immagine con i bounding box\n",
    "cv2.imshow(\"Bounding Boxes\", image)\n",
    "cv2.waitKey(0)\n",
    "cv2.destroyAllWindows()\n",
    "\n",
    "# Salva l'immagine con i bounding box\n",
    "output_path = \"output.jpg\"\n",
    "cv2.imwrite(output_path, image)"
   ]
  }
 ],
 "metadata": {
  "kernelspec": {
   "display_name": "Python 3",
   "language": "python",
   "name": "python3"
  },
  "language_info": {
   "codemirror_mode": {
    "name": "ipython",
    "version": 3
   },
   "file_extension": ".py",
   "mimetype": "text/x-python",
   "name": "python",
   "nbconvert_exporter": "python",
   "pygments_lexer": "ipython3",
   "version": "3.10.12"
  }
 },
 "nbformat": 4,
 "nbformat_minor": 2
}
