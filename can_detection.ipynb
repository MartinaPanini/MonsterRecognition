{
 "cells": [
  {
   "cell_type": "code",
   "execution_count": null,
   "metadata": {},
   "outputs": [],
   "source": [
    "import nbimporter\n",
    "from monster_dataset import CanDataset, transform\n",
    "from torch.utils.data import DataLoader, Dataset\n",
    "# Crea il dataset di train e test\n",
    "train_dataset = CanDataset(root_dir='/home/mozy/Desktop/MonsterNana/Monster_energy_drink/train', transform=transform)\n",
    "test_dataset = CanDataset(root_dir='/home/mozy/Desktop/MonsterNana/Monster_energy_drink/test', transform=transform)\n",
    "# Crea i dataloader per il dataset di train e test\n",
    "train_loader = DataLoader(train_dataset, batch_size=32, shuffle=True)\n",
    "test_loader = DataLoader(test_dataset, batch_size=32, shuffle=False)"
   ]
  }
 ],
 "metadata": {
  "language_info": {
   "name": "python"
  }
 },
 "nbformat": 4,
 "nbformat_minor": 2
}
